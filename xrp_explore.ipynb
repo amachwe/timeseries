{
 "cells": [
  {
   "cell_type": "code",
   "execution_count": 9,
   "metadata": {},
   "outputs": [],
   "source": [
    "#Explore XRP Price Trends\n",
    "from matplotlib import pyplot as plt\n",
    "import pandas as pd\n",
    "from ts_fun import build_lag_data, corrcof, delta, gen_ols, lag_ols, linefit,evaluate_ts, train_test_split, data_set_sample, predict, sample\n",
    "from tslibs import measure\n",
    "import data_download as dd\n",
    "import keras as k\n",
    "import numpy as np\n",
    "\n",
    "def update(sym=\"XRP-USD\"):\n",
    "    d1,d2 = dd.to_csv(sym)\n",
    "\n",
    "    d1.to_csv(f\"data/{sym}.csv\")\n",
    "    d2.to_csv(f\"data/{sym}-price.csv\")\n",
    "    print(f\"{sym} files written.\")\n",
    "\n",
    "def load_from_file(sym=\"XRP-USD\"):\n",
    "    price = pd.read_csv(f\"data/{sym}-price.csv\",index_col=\"time\",parse_dates=True)\n",
    "    daily = pd.read_csv(f\"data/{sym}.csv\",index_col=\"time\",parse_dates=True)\n",
    "\n",
    "    return price,daily \n",
    "\n",
    "#VARS\n",
    "UPDATE_DATASETS = True\n",
    "SYMBOL = \"XRP-USD\"\n",
    "GBP_USD = 1.22"
   ]
  },
  {
   "cell_type": "code",
   "execution_count": 10,
   "metadata": {},
   "outputs": [
    {
     "name": "stdout",
     "output_type": "stream",
     "text": [
      "XRP-USD files written.\n",
      "BTC-USD files written.\n",
      "ETH-USD files written.\n",
      "BCH-USD files written.\n"
     ]
    }
   ],
   "source": [
    "# Optional - to update datasets\n",
    "if UPDATE_DATASETS:\n",
    "    update(sym=\"XRP-USD\")\n",
    "    update(sym=\"BTC-USD\")\n",
    "    update(sym=\"ETH-USD\")\n",
    "    update(sym=\"BCH-USD\")\n"
   ]
  },
  {
   "cell_type": "code",
   "execution_count": 11,
   "metadata": {},
   "outputs": [],
   "source": [
    "#Pipelines\n",
    "def hohc_lolc(daily):\n",
    "    ho = daily[\"high\"]-daily[\"open\"]\n",
    "    lo = daily[\"low\"] - daily[\"open\"]\n",
    "    hc = daily[\"high\"] - daily[\"close\"]\n",
    "    lc = daily[\"low\"] - daily[\"close\"]\n",
    "\n",
    "    return ho, hc, lo, lc\n",
    "\n",
    "def n(x):\n",
    "    \n",
    "    return x/x.max()\n",
    "\n",
    "def ntrain_set_predict(daily):\n",
    "    low = daily[\"low\"]\n",
    "    X = [\n",
    "        n(daily[\"open\"])[:-1],\n",
    "        n(daily[\"close\"])[:-1],\n",
    "        n(low[:-1]),\n",
    "        n(daily[\"high\"])[:-1],\n",
    "        n(daily[\"volume\"])[:-1]\n",
    "    ]\n",
    "    Y = [int(x > 0) for x in np.diff(low,1)]\n",
    "    \n",
    "\n",
    "    return np.array(X).transpose(),np.array([Y])\n",
    "\n",
    "def train_set_predict(daily):\n",
    "    low = daily[\"low\"]\n",
    "    X = [\n",
    "        daily[\"open\"][:-1],\n",
    "        daily[\"close\"][:-1],\n",
    "        low[:-1],\n",
    "        daily[\"high\"][:-1],\n",
    "        daily[\"volume\"][:-1]\n",
    "    ]\n",
    "    Y = [int(x > 0) for x in np.diff(low,1)]\n",
    "    \n",
    "\n",
    "    return np.array(X).transpose(),np.array(Y)\n",
    "\n"
   ]
  },
  {
   "cell_type": "code",
   "execution_count": 12,
   "metadata": {},
   "outputs": [],
   "source": [
    "#Models \n",
    "def nn_model(f_len=5):\n",
    "    m = k.models.Sequential()\n",
    "    m.add(k.layers.Dense(f_len,activation='sigmoid'))\n",
    "    m.add(k.layers.Dense(f_len, activation='relu'))\n",
    "    m.add(k.layers.Dense(1,activation='sigmoid'))\n",
    "    \n",
    "\n",
    "    m.compile(optimizer='adam',loss='binary_crossentropy', metrics=[\"accuracy\",\"binary_crossentropy\"])\n",
    "\n",
    "    return m\n"
   ]
  },
  {
   "cell_type": "code",
   "execution_count": 13,
   "metadata": {},
   "outputs": [],
   "source": [
    "\n",
    "    \n",
    "# Load data\n",
    "price, daily = load_from_file(sym=SYMBOL) "
   ]
  },
  {
   "cell_type": "code",
   "execution_count": 14,
   "metadata": {},
   "outputs": [
    {
     "name": "stdout",
     "output_type": "stream",
     "text": [
      "(2835, 5) (2835,)\n"
     ]
    }
   ],
   "source": [
    "\n",
    "X, Y = train_set_predict(daily)\n",
    "print(X.shape, Y.shape)\n"
   ]
  },
  {
   "cell_type": "code",
   "execution_count": 15,
   "metadata": {},
   "outputs": [
    {
     "name": "stdout",
     "output_type": "stream",
     "text": [
      "(2268, 5) (567, 5) (2268,) (567,)\n"
     ]
    }
   ],
   "source": [
    "\n",
    "m = nn_model(len(X))\n",
    "X_train,Y_train,X_test,Y_test = data_set_sample(X,Y)\n",
    "#print(X_train)\n",
    "print(X_train.shape,X_test.shape,Y_train.shape,Y_test.shape)\n"
   ]
  },
  {
   "cell_type": "code",
   "execution_count": 16,
   "metadata": {},
   "outputs": [
    {
     "name": "stdout",
     "output_type": "stream",
     "text": [
      "Epoch 1/10\n",
      "227/227 [==============================] - 14s 62ms/step - loss: 0.8385 - accuracy: 0.5084 - binary_crossentropy: 0.8385\n",
      "Epoch 2/10\n",
      "227/227 [==============================] - 15s 64ms/step - loss: 0.6931 - accuracy: 0.5234 - binary_crossentropy: 0.6931\n",
      "Epoch 3/10\n",
      "227/227 [==============================] - 14s 61ms/step - loss: 0.6929 - accuracy: 0.5225 - binary_crossentropy: 0.6929\n",
      "Epoch 4/10\n",
      "227/227 [==============================] - 14s 63ms/step - loss: 0.6927 - accuracy: 0.5234 - binary_crossentropy: 0.69271s - loss: 0.6929 - accura\n",
      "Epoch 5/10\n",
      "227/227 [==============================] - 14s 63ms/step - loss: 0.6924 - accuracy: 0.5234 - binary_crossentropy: 0.6924\n",
      "Epoch 6/10\n",
      "227/227 [==============================] - 15s 64ms/step - loss: 0.6922 - accuracy: 0.5234 - binary_crossentropy: 0.6922\n",
      "Epoch 7/10\n",
      "227/227 [==============================] - 14s 63ms/step - loss: 0.6922 - accuracy: 0.5234 - binary_crossentropy: 0.6922\n",
      "Epoch 8/10\n",
      "227/227 [==============================] - 14s 60ms/step - loss: 0.6922 - accuracy: 0.5234 - binary_crossentropy: 0.6922\n",
      "Epoch 9/10\n",
      "227/227 [==============================] - 14s 61ms/step - loss: 0.6921 - accuracy: 0.5234 - binary_crossentropy: 0.6921\n",
      "Epoch 10/10\n",
      "227/227 [==============================] - 15s 64ms/step - loss: 0.6921 - accuracy: 0.5234 - binary_crossentropy: 0.6921\n"
     ]
    },
    {
     "data": {
      "text/plain": [
       "[0.691150963306427, 0.5343915224075317, 0.691150963306427]"
      ]
     },
     "execution_count": 16,
     "metadata": {},
     "output_type": "execute_result"
    }
   ],
   "source": [
    "\n",
    "m.fit(X_train,Y_train, epochs=10,batch_size=10,verbose=1)\n",
    "m.evaluate(X_test,Y_test,verbose=0)\n",
    "\n"
   ]
  },
  {
   "cell_type": "code",
   "execution_count": 17,
   "metadata": {},
   "outputs": [
    {
     "name": "stdout",
     "output_type": "stream",
     "text": [
      "(1, 5)\n",
      "1/1 [==============================] - 0s 2ms/step\n",
      "[[0.5207837]]\n",
      "[3.23284000e-01 3.28626007e-01 3.20152014e-01 3.36062998e-01\n",
      " 1.24758200e+09]\n"
     ]
    }
   ],
   "source": [
    "\n",
    "# process result\n",
    "\n",
    "print(np.array([X[-1]]).shape)\n",
    "\n",
    "print(m.predict(np.array([X[-1]]),verbose=1))\n",
    "print(X[-1])"
   ]
  }
 ],
 "metadata": {
  "interpreter": {
   "hash": "570feb405e2e27c949193ac68f46852414290d515b0ba6e5d90d076ed2284471"
  },
  "kernelspec": {
   "display_name": "Python 3.8.6 64-bit",
   "language": "python",
   "name": "python3"
  },
  "language_info": {
   "codemirror_mode": {
    "name": "ipython",
    "version": 3
   },
   "file_extension": ".py",
   "mimetype": "text/x-python",
   "name": "python",
   "nbconvert_exporter": "python",
   "pygments_lexer": "ipython3",
   "version": "3.8.6"
  },
  "orig_nbformat": 4
 },
 "nbformat": 4,
 "nbformat_minor": 2
}
